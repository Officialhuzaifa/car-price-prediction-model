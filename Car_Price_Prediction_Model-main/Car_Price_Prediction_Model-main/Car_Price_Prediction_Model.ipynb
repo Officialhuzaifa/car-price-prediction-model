{
 "cells": [
  {
   "cell_type": "code",
   "execution_count": 60,
   "id": "dbf7fb20",
   "metadata": {},
   "outputs": [],
   "source": [
    "import numpy as np"
   ]
  },
  {
   "cell_type": "code",
   "execution_count": 61,
   "id": "b1d45a98",
   "metadata": {},
   "outputs": [],
   "source": [
    "import pandas as pd"
   ]
  },
  {
   "cell_type": "code",
   "execution_count": 62,
   "id": "4af6d93d",
   "metadata": {},
   "outputs": [],
   "source": [
    "import pickle"
   ]
  },
  {
   "cell_type": "code",
   "execution_count": 63,
   "id": "7e582b1a",
   "metadata": {},
   "outputs": [],
   "source": [
    "import pickle as pk"
   ]
  },
  {
   "cell_type": "code",
   "execution_count": 64,
   "id": "9cf3abd7",
   "metadata": {},
   "outputs": [],
   "source": [
    "from sklearn.model_selection import train_test_split"
   ]
  },
  {
   "cell_type": "code",
   "execution_count": 65,
   "id": "c422838b",
   "metadata": {},
   "outputs": [],
   "source": [
    "from sklearn.linear_model import LinearRegression"
   ]
  },
  {
   "cell_type": "code",
   "execution_count": 66,
   "id": "97efb136",
   "metadata": {},
   "outputs": [],
   "source": [
    "cars_Data = pd.read_csv('Cardetails.csv')"
   ]
  },
  {
   "cell_type": "code",
   "execution_count": null,
   "id": "757aaf76",
   "metadata": {},
   "outputs": [],
   "source": [
    "cars_Data.head()"
   ]
  },
  {
   "cell_type": "code",
   "execution_count": null,
   "id": "921dedf0",
   "metadata": {},
   "outputs": [],
   "source": [
    "def get_brand_name(car_name):\n",
    "    return car_name.split(' ')[0]  # Extract the brand (first word)\n",
    "\n",
    "# Apply the function to extract the brand\n",
    "cars_Data['brand'] = cars_Data['name'].apply(get_brand_name)\n"
   ]
  },
  {
   "cell_type": "code",
   "execution_count": null,
   "id": "aac9bd45",
   "metadata": {},
   "outputs": [],
   "source": [
    "cars_Data['brand'] = cars_Data['name'].apply(get_brand_name)\n",
    "\n"
   ]
  },
  {
   "cell_type": "code",
   "execution_count": null,
   "id": "f94514bc",
   "metadata": {},
   "outputs": [],
   "source": [
    "cars_Data.shape"
   ]
  },
  {
   "cell_type": "code",
   "execution_count": 69,
   "id": "59ae8c0c",
   "metadata": {},
   "outputs": [],
   "source": [
    "cars_Data.drop(columns = ['torque'], inplace = True)"
   ]
  },
  {
   "cell_type": "code",
   "execution_count": null,
   "id": "cf72bb94",
   "metadata": {},
   "outputs": [],
   "source": [
    "cars_Data.shape"
   ]
  },
  {
   "cell_type": "code",
   "execution_count": null,
   "id": "4b568844",
   "metadata": {},
   "outputs": [],
   "source": [
    "cars_Data.isnull().sum()"
   ]
  },
  {
   "cell_type": "code",
   "execution_count": 72,
   "id": "51b42aad",
   "metadata": {},
   "outputs": [],
   "source": [
    "cars_Data.dropna(inplace=True)"
   ]
  },
  {
   "cell_type": "code",
   "execution_count": null,
   "id": "a1a2b9a3",
   "metadata": {},
   "outputs": [],
   "source": [
    "cars_Data.isnull().sum()"
   ]
  },
  {
   "cell_type": "code",
   "execution_count": null,
   "id": "3bb47594",
   "metadata": {},
   "outputs": [],
   "source": [
    "cars_Data.shape"
   ]
  },
  {
   "cell_type": "code",
   "execution_count": null,
   "id": "5eb96b0d",
   "metadata": {},
   "outputs": [],
   "source": [
    "cars_Data.duplicated().sum()"
   ]
  },
  {
   "cell_type": "code",
   "execution_count": 76,
   "id": "8e5e4388",
   "metadata": {},
   "outputs": [],
   "source": [
    "cars_Data.drop_duplicates(inplace = True)"
   ]
  },
  {
   "cell_type": "code",
   "execution_count": null,
   "id": "a853dddf",
   "metadata": {},
   "outputs": [],
   "source": [
    "cars_Data.shape"
   ]
  },
  {
   "cell_type": "code",
   "execution_count": null,
   "id": "7834ac8a",
   "metadata": {},
   "outputs": [],
   "source": [
    "cars_Data.info()"
   ]
  },
  {
   "cell_type": "code",
   "execution_count": null,
   "id": "353abffd",
   "metadata": {},
   "outputs": [],
   "source": [
    "for col in cars_Data.columns:\n",
    "    print('Unique values of ' + col)\n",
    "    print(cars_Data[col].unique())\n",
    "    print(\"================================================\")"
   ]
  },
  {
   "cell_type": "code",
   "execution_count": 80,
   "id": "03845369",
   "metadata": {},
   "outputs": [],
   "source": [
    "def get_brand_name(car_name):\n",
    "    car_name = car_name.split(' ')[0]\n",
    "    return car_name.strip()"
   ]
  },
  {
   "cell_type": "code",
   "execution_count": null,
   "id": "2b385bae",
   "metadata": {},
   "outputs": [],
   "source": [
    "get_brand_name('Tata Nexon 1.5 Revotorq XT')"
   ]
  },
  {
   "cell_type": "code",
   "execution_count": 82,
   "id": "57af4c87",
   "metadata": {},
   "outputs": [],
   "source": [
    "def clean_data(value):\n",
    "    value=value.split(' ')[0]\n",
    "    value = value.strip()\n",
    "    if value == '':\n",
    "        value = 0\n",
    "    return float(value)"
   ]
  },
  {
   "cell_type": "code",
   "execution_count": 83,
   "id": "b69d0663",
   "metadata": {},
   "outputs": [],
   "source": [
    "cars_Data['name'] = cars_Data['name'].apply(get_brand_name)"
   ]
  },
  {
   "cell_type": "code",
   "execution_count": null,
   "id": "ab2fae4a",
   "metadata": {},
   "outputs": [],
   "source": [
    "cars_Data['name'].unique()"
   ]
  },
  {
   "cell_type": "code",
   "execution_count": 85,
   "id": "5f154f6f",
   "metadata": {},
   "outputs": [],
   "source": [
    "cars_Data['mileage'] = cars_Data['mileage'].apply(clean_data)"
   ]
  },
  {
   "cell_type": "code",
   "execution_count": null,
   "id": "f4396823",
   "metadata": {},
   "outputs": [],
   "source": [
    "cars_Data['mileage'].unique()"
   ]
  },
  {
   "cell_type": "code",
   "execution_count": 87,
   "id": "d494fb82",
   "metadata": {},
   "outputs": [],
   "source": [
    "cars_Data['max_power'] = cars_Data['max_power'].apply(clean_data)\n",
    "cars_Data['engine'] = cars_Data['engine'].apply(clean_data)"
   ]
  },
  {
   "cell_type": "code",
   "execution_count": null,
   "id": "1e023a21",
   "metadata": {},
   "outputs": [],
   "source": [
    "cars_Data['max_power'].unique()"
   ]
  },
  {
   "cell_type": "code",
   "execution_count": null,
   "id": "fc89fb5c",
   "metadata": {},
   "outputs": [],
   "source": [
    "cars_Data['engine'].unique()"
   ]
  },
  {
   "cell_type": "code",
   "execution_count": null,
   "id": "11723197",
   "metadata": {},
   "outputs": [],
   "source": [
    "for col in cars_Data.columns:\n",
    "    print('Unique Vaues of ' + col)\n",
    "    print(cars_Data[col].unique())\n",
    "    print('<======================================================>')\n"
   ]
  },
  {
   "cell_type": "code",
   "execution_count": null,
   "id": "03396a3c",
   "metadata": {},
   "outputs": [],
   "source": [
    "cars_Data['name'].replace(['Maruti', 'Skoda', 'Honda', 'Hyundai', 'Toyota', 'Ford', 'Renault',\n",
    "       'Mahindra', 'Tata', 'Chevrolet', 'Datsun', 'Jeep', 'Mercedes-Benz',\n",
    "       'Mitsubishi', 'Audi', 'Volkswagen', 'BMW', 'Nissan', 'Lexus',\n",
    "       'Jaguar', 'Land', 'MG', 'Volvo', 'Daewoo', 'Kia', 'Fiat', 'Force',\n",
    "       'Ambassador', 'Ashok', 'Isuzu', 'Opel'],\n",
    "                          [1,2,3,4,5,6,7,8,9,10,11,12,13,14,15,16,17,18,19,20,21,22,23,24,25,26,27,28,29,30,31], inplace = True)"
   ]
  },
  {
   "cell_type": "code",
   "execution_count": null,
   "id": "c7794b8c",
   "metadata": {},
   "outputs": [],
   "source": [
    "cars_Data['transmission'].unique()"
   ]
  },
  {
   "cell_type": "code",
   "execution_count": null,
   "id": "3deaef9b",
   "metadata": {},
   "outputs": [],
   "source": [
    "cars_Data['transmission'].replace(['Manual', 'Automatic'],\n",
    "                                  [1,2], inplace= True)"
   ]
  },
  {
   "cell_type": "code",
   "execution_count": null,
   "id": "0f9cfe49",
   "metadata": {},
   "outputs": [],
   "source": [
    "cars_Data['fuel'].unique()"
   ]
  },
  {
   "cell_type": "code",
   "execution_count": null,
   "id": "411a44cd",
   "metadata": {},
   "outputs": [],
   "source": [
    "cars_Data['fuel'].replace(['Diesel', 'Petrol', 'LPG', 'CNG'],\n",
    "                          [1,2,3,4], inplace = True)"
   ]
  },
  {
   "cell_type": "code",
   "execution_count": null,
   "id": "0cc23e72",
   "metadata": {},
   "outputs": [],
   "source": [
    "cars_Data['seller_type'].unique()"
   ]
  },
  {
   "cell_type": "code",
   "execution_count": null,
   "id": "ec0b341f",
   "metadata": {},
   "outputs": [],
   "source": [
    "cars_Data['seller_type'].replace(['Individual', 'Dealer', 'Trustmark Dealer'],\n",
    "                                 [1,2,3], inplace = True)"
   ]
  },
  {
   "cell_type": "code",
   "execution_count": null,
   "id": "2df081f4",
   "metadata": {},
   "outputs": [],
   "source": [
    "cars_Data['owner'].unique()"
   ]
  },
  {
   "cell_type": "code",
   "execution_count": null,
   "id": "5a76224f",
   "metadata": {},
   "outputs": [],
   "source": [
    "cars_Data['owner'].replace(['First Owner', 'Second Owner', 'Third Owner',\n",
    "       'Fourth & Above Owner', 'Test Drive Car'],\n",
    "                           [1,2,3,4,5], inplace = True)"
   ]
  },
  {
   "cell_type": "code",
   "execution_count": null,
   "id": "3e0e1fbf",
   "metadata": {},
   "outputs": [],
   "source": [
    "cars_Data"
   ]
  },
  {
   "cell_type": "code",
   "execution_count": 101,
   "id": "6c0f64ab",
   "metadata": {},
   "outputs": [],
   "source": [
    "cars_Data.reset_index(inplace = True)"
   ]
  },
  {
   "cell_type": "code",
   "execution_count": null,
   "id": "582f62cc",
   "metadata": {},
   "outputs": [],
   "source": [
    "cars_Data"
   ]
  },
  {
   "cell_type": "code",
   "execution_count": null,
   "id": "1605090f",
   "metadata": {},
   "outputs": [],
   "source": [
    "cars_Data.drop(columns = ['index'])"
   ]
  },
  {
   "cell_type": "code",
   "execution_count": 104,
   "id": "15b50545",
   "metadata": {},
   "outputs": [],
   "source": [
    "input_data = cars_Data.drop(columns = ['selling_price'])"
   ]
  },
  {
   "cell_type": "code",
   "execution_count": 105,
   "id": "b61f3b81",
   "metadata": {},
   "outputs": [],
   "source": [
    "output_data = cars_Data['selling_price']"
   ]
  },
  {
   "cell_type": "code",
   "execution_count": 106,
   "id": "7354fbfc",
   "metadata": {},
   "outputs": [],
   "source": [
    "x_train, x_test, y_train, y_test = train_test_split(input_data, output_data, test_size = 0.2)"
   ]
  },
  {
   "cell_type": "code",
   "execution_count": 107,
   "id": "7ef381b2",
   "metadata": {},
   "outputs": [],
   "source": [
    "model = LinearRegression()"
   ]
  },
  {
   "cell_type": "markdown",
   "id": "61471304",
   "metadata": {},
   "source": [
    "model.fit(x_train, y_train)"
   ]
  },
  {
   "cell_type": "code",
   "execution_count": null,
   "id": "5f3c3cdd",
   "metadata": {},
   "outputs": [],
   "source": [
    "model.fit(x_train, y_train)"
   ]
  },
  {
   "cell_type": "code",
   "execution_count": 109,
   "id": "90d03d9f",
   "metadata": {},
   "outputs": [],
   "source": [
    "predict = model.predict(x_test)"
   ]
  },
  {
   "cell_type": "code",
   "execution_count": null,
   "id": "3c821869",
   "metadata": {},
   "outputs": [],
   "source": [
    "x_train.head(1)"
   ]
  },
  {
   "cell_type": "code",
   "execution_count": 111,
   "id": "b3c25776",
   "metadata": {},
   "outputs": [],
   "source": [
    "input_data_model = pd.DataFrame(\n",
    "    [[5827, 1, 2026, 91000, 2, 1, 1, 2, 17.0, 1497.0, 118.0, 5.0]],\n",
    "    columns = ['index' , 'name' , 'year' , 'km_driven' , 'fuel' , 'seller_type' , 'transmission' , 'owner' , 'mileage' , 'engine' , 'max_power' , 'seats'])\n"
   ]
  },
  {
   "cell_type": "code",
   "execution_count": null,
   "id": "168740dd",
   "metadata": {},
   "outputs": [],
   "source": [
    "input_data_model"
   ]
  },
  {
   "cell_type": "code",
   "execution_count": null,
   "id": "a6d9432f",
   "metadata": {},
   "outputs": [],
   "source": [
    "model.predict(input_data_model)"
   ]
  },
  {
   "cell_type": "code",
   "execution_count": 114,
   "id": "310a08bb",
   "metadata": {},
   "outputs": [],
   "source": [
    "import pickle as pk"
   ]
  },
  {
   "cell_type": "code",
   "execution_count": 115,
   "id": "93ee840c",
   "metadata": {},
   "outputs": [],
   "source": [
    "pk.dump(model,open('model.pkl','wb'))"
   ]
  }
 ],
 "metadata": {
  "kernelspec": {
   "display_name": "Python 3 (ipykernel)",
   "language": "python",
   "name": "python3"
  },
  "language_info": {
   "codemirror_mode": {
    "name": "ipython",
    "version": 3
   },
   "file_extension": ".py",
   "mimetype": "text/x-python",
   "name": "python",
   "nbconvert_exporter": "python",
   "pygments_lexer": "ipython3",
   "version": "3.12.5"
  }
 },
 "nbformat": 4,
 "nbformat_minor": 5
}
